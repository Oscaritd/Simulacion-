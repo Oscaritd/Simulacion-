{
  "nbformat": 4,
  "nbformat_minor": 0,
  "metadata": {
    "colab": {
      "provenance": [],
      "authorship_tag": "ABX9TyN0Fp+xzfDBVY0c90iicAkP",
      "include_colab_link": true
    },
    "kernelspec": {
      "name": "python3",
      "display_name": "Python 3"
    },
    "language_info": {
      "name": "python"
    }
  },
  "cells": [
    {
      "cell_type": "markdown",
      "metadata": {
        "id": "view-in-github",
        "colab_type": "text"
      },
      "source": [
        "<a href=\"https://colab.research.google.com/github/Oscaritd/Simulacion-/blob/main/Unidad%20/2Practica_1.ipynb\" target=\"_parent\"><img src=\"https://colab.research.google.com/assets/colab-badge.svg\" alt=\"Open In Colab\"/></a>"
      ]
    },
    {
      "cell_type": "markdown",
      "source": [
        "#SIMULACION\n",
        "## UNIDAD 2\n"
      ],
      "metadata": {
        "id": "5LkaLk--57EJ"
      }
    },
    {
      "cell_type": "code",
      "execution_count": 2,
      "metadata": {
        "colab": {
          "base_uri": "https://localhost:8080/"
        },
        "id": "Xa8M9eI2f1fI",
        "outputId": "8f034c48-00f7-46b4-b98a-d8e258630a07"
      },
      "outputs": [
        {
          "output_type": "stream",
          "name": "stdout",
          "text": [
            "numeros aleatorios (i): (numero)\n",
            "numeros aleatorios (i): (numero)\n",
            "numeros aleatorios (i): (numero)\n",
            "numeros aleatorios (i): (numero)\n",
            "numeros aleatorios (i): (numero)\n",
            "numeros aleatorios (i): (numero)\n",
            "numeros aleatorios (i): (numero)\n",
            "numeros aleatorios (i): (numero)\n",
            "numeros aleatorios (i): (numero)\n",
            "numeros aleatorios (i): (numero)\n",
            "numeros aleatorios (i): (numero)\n",
            "numeros aleatorios (i): (numero)\n",
            "numeros aleatorios (i): (numero)\n",
            "numeros aleatorios (i): (numero)\n",
            "numeros aleatorios (i): (numero)\n",
            "numeros aleatorios (i): (numero)\n",
            "numeros aleatorios (i): (numero)\n",
            "numeros aleatorios (i): (numero)\n",
            "numeros aleatorios (i): (numero)\n",
            "numeros aleatorios (i): (numero)\n",
            "numeros aleatorios (i): (numero)\n",
            "numeros aleatorios (i): (numero)\n",
            "numeros aleatorios (i): (numero)\n",
            "numeros aleatorios (i): (numero)\n",
            "numeros aleatorios (i): (numero)\n",
            "numeros aleatorios (i): (numero)\n",
            "numeros aleatorios (i): (numero)\n",
            "numeros aleatorios (i): (numero)\n",
            "numeros aleatorios (i): (numero)\n",
            "numeros aleatorios (i): (numero)\n",
            "numeros aleatorios (i): (numero)\n",
            "numeros aleatorios (i): (numero)\n",
            "numeros aleatorios (i): (numero)\n",
            "numeros aleatorios (i): (numero)\n",
            "numeros aleatorios (i): (numero)\n",
            "numeros aleatorios (i): (numero)\n",
            "numeros aleatorios (i): (numero)\n",
            "numeros aleatorios (i): (numero)\n",
            "numeros aleatorios (i): (numero)\n",
            "numeros aleatorios (i): (numero)\n",
            "numeros aleatorios (i): (numero)\n",
            "numeros aleatorios (i): (numero)\n",
            "numeros aleatorios (i): (numero)\n",
            "numeros aleatorios (i): (numero)\n",
            "numeros aleatorios (i): (numero)\n",
            "numeros aleatorios (i): (numero)\n",
            "numeros aleatorios (i): (numero)\n",
            "numeros aleatorios (i): (numero)\n",
            "numeros aleatorios (i): (numero)\n",
            "numeros aleatorios (i): (numero)\n",
            "numeros aleatorios (i): (numero)\n",
            "numeros aleatorios (i): (numero)\n",
            "numeros aleatorios (i): (numero)\n",
            "numeros aleatorios (i): (numero)\n",
            "numeros aleatorios (i): (numero)\n",
            "numeros aleatorios (i): (numero)\n",
            "numeros aleatorios (i): (numero)\n",
            "numeros aleatorios (i): (numero)\n",
            "numeros aleatorios (i): (numero)\n",
            "numeros aleatorios (i): (numero)\n",
            "numeros aleatorios (i): (numero)\n",
            "numeros aleatorios (i): (numero)\n",
            "numeros aleatorios (i): (numero)\n",
            "numeros aleatorios (i): (numero)\n",
            "numeros aleatorios (i): (numero)\n",
            "numeros aleatorios (i): (numero)\n",
            "numeros aleatorios (i): (numero)\n",
            "numeros aleatorios (i): (numero)\n",
            "numeros aleatorios (i): (numero)\n",
            "numeros aleatorios (i): (numero)\n",
            "numeros aleatorios (i): (numero)\n",
            "numeros aleatorios (i): (numero)\n",
            "numeros aleatorios (i): (numero)\n",
            "numeros aleatorios (i): (numero)\n",
            "numeros aleatorios (i): (numero)\n",
            "numeros aleatorios (i): (numero)\n",
            "numeros aleatorios (i): (numero)\n",
            "numeros aleatorios (i): (numero)\n",
            "numeros aleatorios (i): (numero)\n",
            "numeros aleatorios (i): (numero)\n",
            "numeros aleatorios (i): (numero)\n",
            "numeros aleatorios (i): (numero)\n",
            "numeros aleatorios (i): (numero)\n",
            "numeros aleatorios (i): (numero)\n",
            "numeros aleatorios (i): (numero)\n",
            "numeros aleatorios (i): (numero)\n",
            "numeros aleatorios (i): (numero)\n",
            "numeros aleatorios (i): (numero)\n",
            "numeros aleatorios (i): (numero)\n",
            "numeros aleatorios (i): (numero)\n",
            "numeros aleatorios (i): (numero)\n",
            "numeros aleatorios (i): (numero)\n",
            "numeros aleatorios (i): (numero)\n",
            "numeros aleatorios (i): (numero)\n",
            "numeros aleatorios (i): (numero)\n",
            "numeros aleatorios (i): (numero)\n",
            "numeros aleatorios (i): (numero)\n",
            "numeros aleatorios (i): (numero)\n",
            "numeros aleatorios (i): (numero)\n",
            "numeros aleatorios (i): (numero)\n"
          ]
        }
      ],
      "source": [
        "#semilla\n",
        "semilla = 2005\n",
        "n = 4\n",
        "interaciones = 100\n",
        "resultados = []\n",
        "\n",
        "for _ in range (interaciones):\n",
        "  #Elevar la semilla al cuadrado\n",
        "  cuadrado = str(semilla ** 2).zfill(2 * n) #Agregar los espacios necesarios\n",
        "  #Extraer los digitos centrales\n",
        "  inicio = (len(cuadrado) - n) // 2\n",
        "  semilla = int(cuadrado[inicio: inicio + n])\n",
        "  resultados.append(semilla)\n",
        "\n",
        "#Imprimir los resultados\n",
        "for resultado in enumerate(resultados, 1):\n",
        "  print(f\"numeros aleatorios (i): (numero)\")"
      ]
    },
    {
      "cell_type": "code",
      "source": [],
      "metadata": {
        "id": "EGm7rTVeivBP"
      },
      "execution_count": null,
      "outputs": []
    }
  ]
}