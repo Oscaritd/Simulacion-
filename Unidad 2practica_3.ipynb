{
  "nbformat": 4,
  "nbformat_minor": 0,
  "metadata": {
    "colab": {
      "provenance": [],
      "authorship_tag": "ABX9TyNrqyvHPgk1m2rCQO+WQipC",
      "include_colab_link": true
    },
    "kernelspec": {
      "name": "python3",
      "display_name": "Python 3"
    },
    "language_info": {
      "name": "python"
    }
  },
  "cells": [
    {
      "cell_type": "markdown",
      "metadata": {
        "id": "view-in-github",
        "colab_type": "text"
      },
      "source": [
        "<a href=\"https://colab.research.google.com/github/Oscaritd/Simulacion-/blob/main/Unidad%202practica_3.ipynb\" target=\"_parent\"><img src=\"https://colab.research.google.com/assets/colab-badge.svg\" alt=\"Open In Colab\"/></a>"
      ]
    },
    {
      "cell_type": "code",
      "execution_count": 2,
      "metadata": {
        "colab": {
          "base_uri": "https://localhost:8080/"
        },
        "id": "tCpcOBvtoR32",
        "outputId": "d1568dd3-d87a-4676-ebc3-d27bfaae5a07"
      },
      "outputs": [
        {
          "output_type": "stream",
          "name": "stdout",
          "text": [
            "Números aleatorios generados:\n",
            "[4.36909823e-01 3.50920709e-01 4.06159501e-01 1.92886892e-01\n",
            " 2.51944585e-01 9.78638677e-01 2.19230812e-01 8.33056537e-01\n",
            " 5.56581390e-01 7.43388886e-01 3.24390742e-01 3.66817756e-01\n",
            " 6.92318029e-01 3.53008042e-01 9.05762629e-01 5.19235366e-01\n",
            " 5.26931599e-01 9.40078974e-01 1.76106779e-03 1.51219388e-01\n",
            " 6.77304872e-02 6.86067059e-01 3.60695790e-02 4.11577803e-01\n",
            " 5.97961375e-01 5.12030887e-01 5.76969799e-01 2.69914609e-01\n",
            " 7.78867488e-01 7.59186747e-01 4.31085025e-01 1.04889052e-01\n",
            " 4.93834414e-01 6.56648851e-01 1.72811107e-01 3.76895352e-01\n",
            " 8.30046084e-01 5.84388345e-01 2.21107377e-02 4.78552564e-02\n",
            " 1.88220333e-01 3.89164522e-02 7.96490847e-01 8.42090169e-02\n",
            " 2.13888709e-01 8.02122719e-01 3.51827089e-01 5.92723085e-01\n",
            " 8.54757467e-01 7.27451385e-01 1.10520060e-01 8.94560085e-01\n",
            " 9.20290141e-01 1.90512291e-01 1.40807580e-01 1.84481950e-01\n",
            " 1.39697157e-01 5.95686960e-01 2.10765425e-01 4.57749951e-01\n",
            " 6.94280131e-01 8.13082650e-01 9.22665508e-01 8.01222235e-01\n",
            " 3.92716033e-04 6.85750800e-02 4.44190275e-01 7.38420288e-01\n",
            " 2.88301693e-01 3.52292406e-01 4.58794000e-01 6.09194841e-01\n",
            " 2.72937454e-01 7.14038983e-01 9.19304128e-01 7.74457894e-01\n",
            " 6.32733784e-01 2.45219945e-01 2.93191791e-01 3.15905529e-01\n",
            " 7.91364977e-01 7.30493891e-01 8.18207272e-01 7.33232517e-01\n",
            " 1.35521207e-01 1.40940516e-01 3.80569296e-01 4.58708262e-01\n",
            " 5.10610542e-01 7.16130831e-01 8.46379147e-01 8.08683398e-01\n",
            " 1.88924958e-01 5.68380586e-01 9.86770257e-01 5.69326241e-01\n",
            " 2.54689575e-01 9.35001324e-01 1.68121528e-01 4.78232020e-01]\n",
            "\n",
            "Estadístico de Kolmogorov-Smirnov: 0.056943462535847145\n",
            "P-valor: 0.8834610215174836\n",
            "\n",
            "No podemos rechazar la hipótesis nula: la distribución es uniforme.\n"
          ]
        }
      ],
      "source": [
        "import numpy as np\n",
        "import scipy.stats as stats\n",
        "n = 100\n",
        "random_numbers = np.random.uniform(0, 1, n)\n",
        "ks_statistic, p_value = stats.kstest(random_numbers, 'uniform')\n",
        "print(\"Números aleatorios generados:\")\n",
        "print(random_numbers)\n",
        "print(\"\\nEstadístico de Kolmogorov-Smirnov:\", ks_statistic)\n",
        "print(\"P-valor:\", p_value)\n",
        "alpha = 0.05\n",
        "if p_value < alpha:\n",
        "    print(\"\\nRechazamos la hipótesis nula: la distribución no es uniforme.\")\n",
        "else:\n",
        "    print(\"\\nNo podemos rechazar la hipótesis nula: la distribución es uniforme.\")\n"
      ]
    }
  ]
}