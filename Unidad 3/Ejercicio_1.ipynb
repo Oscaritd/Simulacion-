{
  "nbformat": 4,
  "nbformat_minor": 0,
  "metadata": {
    "colab": {
      "provenance": [],
      "authorship_tag": "ABX9TyPpMopUZpuEUxMyXvUmMuvV",
      "include_colab_link": true
    },
    "kernelspec": {
      "name": "python3",
      "display_name": "Python 3"
    },
    "language_info": {
      "name": "python"
    }
  },
  "cells": [
    {
      "cell_type": "markdown",
      "metadata": {
        "id": "view-in-github",
        "colab_type": "text"
      },
      "source": [
        "<a href=\"https://colab.research.google.com/github/Oscaritd/Simulacion-/blob/main/Unidad%203/Ejercicio_1.ipynb\" target=\"_parent\"><img src=\"https://colab.research.google.com/assets/colab-badge.svg\" alt=\"Open In Colab\"/></a>"
      ]
    },
    {
      "cell_type": "markdown",
      "source": [
        "#SIMULACION\n",
        "#Ejercicio 1\n",
        "\n",
        "Contexto: Un distribuidor de artículos electrónicos recibe varios pedidos\n",
        "diarios. Cada día, el distribuidor tiene una probabilidad de éxito de cumplir\n",
        "un pedido (es decir, de tener en stock los artículos solicitados) del 70%.\n",
        "Desea simular la cantidad de pedidos diarios que logra satisfacer para\n",
        "gestionar adecuadamente sus inventarios y minimizar las faltantes de\n",
        "stock.\n",
        "Objetivo: Generar una variable aleatoria que simule el número de pedidos\n",
        "satisfechos por día durante una semana, considerando que cada día el\n",
        "distribuidor recibe 20 pedidos."
      ],
      "metadata": {
        "id": "ly31Wxszy6ah"
      }
    },
    {
      "cell_type": "code",
      "source": [
        "import numpy as np\n",
        "\n",
        "def simular_pedidos_semanales(num_dias=7, pedidos_diarios=20, prob_exito=0.7):\n",
        "  \"\"\"\n",
        "  Simula el número de pedidos satisfechos por día durante una semana.\n",
        "\n",
        "  Args:\n",
        "    num_dias: Número de días a simular (por defecto, 7 días).\n",
        "    pedidos_diarios: Número de pedidos recibidos por día (por defecto, 20).\n",
        "    prob_exito: Probabilidad de éxito en satisfacer un pedido (por defecto, 0.7).\n",
        "\n",
        "  Returns:\n",
        "    Un array NumPy con la cantidad de pedidos satisfechos cada día de la semana.\n",
        "  \"\"\"\n",
        "  pedidos_satisfechos = []\n",
        "  for _ in range(num_dias):\n",
        "    # Simula la cantidad de pedidos satisfechos usando una distribución binomial\n",
        "    satisfechos = np.random.binomial(pedidos_diarios, prob_exito)\n",
        "    pedidos_satisfechos.append(satisfechos)\n",
        "  return np.array(pedidos_satisfechos)\n",
        "\n",
        "\n",
        "# Ejemplo de uso:\n",
        "pedidos_semana = simular_pedidos_semanales()\n",
        "pedidos_semana\n"
      ],
      "metadata": {
        "colab": {
          "base_uri": "https://localhost:8080/"
        },
        "id": "-vIi3dXlyxqf",
        "outputId": "c1ce90e3-7a73-491e-ae39-b2e08945f029"
      },
      "execution_count": 2,
      "outputs": [
        {
          "output_type": "execute_result",
          "data": {
            "text/plain": [
              "array([14, 17, 15, 13, 14, 15, 17])"
            ]
          },
          "metadata": {},
          "execution_count": 2
        }
      ]
    },
    {
      "cell_type": "markdown",
      "source": [
        "#CONCLUSION\n",
        "La simulacion ayuda a ver cuantos pedidos puede satisfacer cada dia\n",
        "Este modelo binomial es util porque incorpora la probabilidad de exito realista, reflejando la variabilidad diaria en los resultados."
      ],
      "metadata": {
        "id": "y8xYpo96zo6K"
      }
    }
  ]
}