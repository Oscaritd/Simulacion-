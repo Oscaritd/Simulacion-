{
  "nbformat": 4,
  "nbformat_minor": 0,
  "metadata": {
    "colab": {
      "provenance": [],
      "authorship_tag": "ABX9TyPOqvx5jxaxUvcllQ0t9Cxb",
      "include_colab_link": true
    },
    "kernelspec": {
      "name": "python3",
      "display_name": "Python 3"
    },
    "language_info": {
      "name": "python"
    }
  },
  "cells": [
    {
      "cell_type": "markdown",
      "metadata": {
        "id": "view-in-github",
        "colab_type": "text"
      },
      "source": [
        "<a href=\"https://colab.research.google.com/github/Oscaritd/Simulacion-/blob/main/Unidad%202/Practica_1.ipynb\" target=\"_parent\"><img src=\"https://colab.research.google.com/assets/colab-badge.svg\" alt=\"Open In Colab\"/></a>"
      ]
    },
    {
      "cell_type": "markdown",
      "source": [
        "#SIMULACION\n",
        "## UNIDAD 2\n",
        "## Practica 1\n",
        "### Numeros aleatorios\n"
      ],
      "metadata": {
        "id": "5LkaLk--57EJ"
      }
    },
    {
      "cell_type": "code",
      "execution_count": 1,
      "metadata": {
        "colab": {
          "base_uri": "https://localhost:8080/"
        },
        "id": "Xa8M9eI2f1fI",
        "outputId": "44ac0b66-3969-4838-f137-72ed03b65f5c"
      },
      "outputs": [
        {
          "output_type": "stream",
          "name": "stdout",
          "text": [
            "Número aleatorio 1: 0.013110589236021042\n",
            "Número aleatorio 2: 0.13961606076918542\n",
            "Número aleatorio 3: 0.6596198012121022\n",
            "Número aleatorio 4: 0.8856805472169071\n",
            "Número aleatorio 5: 0.6489241952076554\n",
            "Número aleatorio 6: 0.7820959954988211\n",
            "Número aleatorio 7: 0.5729756481014192\n",
            "Número aleatorio 8: 0.5267239876557142\n",
            "Número aleatorio 9: 0.4816206004470587\n",
            "Número aleatorio 10: 0.7660271131899208\n",
            "Número aleatorio 11: 0.5166504257358611\n",
            "Número aleatorio 12: 0.7859659569803625\n",
            "Número aleatorio 13: 0.22061071079224348\n",
            "Número aleatorio 14: 0.2794494319241494\n",
            "Número aleatorio 15: 0.8017415176145732\n",
            "Número aleatorio 16: 0.035675370367243886\n",
            "Número aleatorio 17: 0.7819285094738007\n",
            "Número aleatorio 18: 0.7882998508866876\n",
            "Número aleatorio 19: 0.045365136582404375\n",
            "Número aleatorio 20: 0.6400377994868904\n",
            "Número aleatorio 21: 0.15425888914614916\n",
            "Número aleatorio 22: 0.013523966772481799\n",
            "Número aleatorio 23: 0.21685993811115623\n",
            "Número aleatorio 24: 0.024552445160225034\n",
            "Número aleatorio 25: 0.39484829641878605\n",
            "Número aleatorio 26: 0.0966644526924938\n",
            "Número aleatorio 27: 0.6341859460808337\n",
            "Número aleatorio 28: 0.5979681725148112\n",
            "Número aleatorio 29: 0.20842318888753653\n",
            "Número aleatorio 30: 0.8445509995799512\n",
            "Número aleatorio 31: 0.4886437910608947\n",
            "Número aleatorio 32: 0.04238360864110291\n",
            "Número aleatorio 33: 0.8122413046658039\n",
            "Número aleatorio 34: 0.19371682009659708\n",
            "Número aleatorio 35: 0.7260392610915005\n",
            "Número aleatorio 36: 0.737136302748695\n",
            "Número aleatorio 37: 0.040400744415819645\n",
            "Número aleatorio 38: 0.2851667150389403\n",
            "Número aleatorio 39: 0.3624181649647653\n",
            "Número aleatorio 40: 0.3321059488225728\n",
            "Número aleatorio 41: 0.8905318658798933\n",
            "Número aleatorio 42: 0.7901217022445053\n",
            "Número aleatorio 43: 0.5624965080060065\n",
            "Número aleatorio 44: 0.7360566707793623\n",
            "Número aleatorio 45: 0.9659969909116626\n",
            "Número aleatorio 46: 0.37736520799808204\n",
            "Número aleatorio 47: 0.058910980354994535\n",
            "Número aleatorio 48: 0.0356433701235801\n",
            "Número aleatorio 49: 0.5167229250073433\n",
            "Número aleatorio 50: 0.46281582093797624\n",
            "Número aleatorio 51: 0.7404147577472031\n",
            "Número aleatorio 52: 0.11070713610388339\n",
            "Número aleatorio 53: 0.03179128933697939\n",
            "Número aleatorio 54: 0.6319516084622592\n",
            "Número aleatorio 55: 0.48714361479505897\n",
            "Número aleatorio 56: 0.96148471836932\n",
            "Número aleatorio 57: 0.5869116652756929\n",
            "Número aleatorio 58: 0.37571099563501775\n",
            "Número aleatorio 59: 0.581077350769192\n",
            "Número aleatorio 60: 0.013357062125578523\n",
            "Número aleatorio 61: 0.39990255143493414\n",
            "Número aleatorio 62: 0.030495206592604518\n",
            "Número aleatorio 63: 0.26982152787968516\n",
            "Número aleatorio 64: 0.914761905791238\n",
            "Número aleatorio 65: 0.2973051331937313\n",
            "Número aleatorio 66: 0.06289726844988763\n",
            "Número aleatorio 67: 0.31183452205732465\n",
            "Número aleatorio 68: 0.593895441154018\n",
            "Número aleatorio 69: 0.04525486472994089\n",
            "Número aleatorio 70: 0.08978257770650089\n",
            "Número aleatorio 71: 0.5812248862348497\n",
            "Número aleatorio 72: 0.5898280360270292\n",
            "Número aleatorio 73: 0.7477358635514975\n",
            "Número aleatorio 74: 0.2743460291530937\n",
            "Número aleatorio 75: 0.06024402612820268\n",
            "Número aleatorio 76: 0.9236590194050223\n",
            "Número aleatorio 77: 0.7653431175276637\n",
            "Número aleatorio 78: 0.9887707072775811\n",
            "Número aleatorio 79: 0.7975991885177791\n",
            "Número aleatorio 80: 0.025335529120638967\n",
            "Número aleatorio 81: 0.8576775044202805\n",
            "Número aleatorio 82: 0.8841131401713938\n",
            "Número aleatorio 83: 0.6607117620296776\n",
            "Número aleatorio 84: 0.4817604220006615\n",
            "Número aleatorio 85: 0.5024986239150167\n",
            "Número aleatorio 86: 0.758040115935728\n",
            "Número aleatorio 87: 0.96004589041695\n",
            "Número aleatorio 88: 0.6218142465222627\n",
            "Número aleatorio 89: 0.5947604421526194\n",
            "Número aleatorio 90: 0.8610420615877956\n",
            "Número aleatorio 91: 0.27363239834085107\n",
            "Número aleatorio 92: 0.20391627796925604\n",
            "Número aleatorio 93: 0.9786547487601638\n",
            "Número aleatorio 94: 0.5317479844670743\n",
            "Número aleatorio 95: 0.04991302965208888\n",
            "Número aleatorio 96: 0.7217496160883456\n",
            "Número aleatorio 97: 0.5157874263823032\n",
            "Número aleatorio 98: 0.3019669761415571\n",
            "Número aleatorio 99: 0.8170299981720746\n",
            "Número aleatorio 100: 0.09377534524537623\n"
          ]
        }
      ],
      "source": [
        "# Parámetros del método congruencial lineal\n",
        "semilla = 2005  # X0\n",
        "n = 100\n",
        "a = 1664525\n",
        "c = 1013904223\n",
        "m = 2**32\n",
        "\n",
        "resultados = []\n",
        "\n",
        "for _ in range(n):\n",
        "    semilla = (a * semilla + c) % m\n",
        "    resultados.append(semilla / m)\n",
        "\n",
        "# Imprimir los resultados\n",
        "to_print = \"\\n\".join(f\"Número aleatorio {_+1}: {num}\" for _, num in enumerate(resultados))\n",
        "print(to_print)\n"
      ]
    },
    {
      "cell_type": "code",
      "source": [],
      "metadata": {
        "id": "EGm7rTVeivBP"
      },
      "execution_count": null,
      "outputs": []
    }
  ]
}